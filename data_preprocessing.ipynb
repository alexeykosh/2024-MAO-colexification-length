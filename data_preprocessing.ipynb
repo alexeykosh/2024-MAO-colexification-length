{
 "cells": [
  {
   "cell_type": "code",
   "execution_count": 1,
   "metadata": {},
   "outputs": [],
   "source": [
    "import pandas as pd\n",
    "import matplotlib.pyplot as plt\n",
    "import numpy as np"
   ]
  },
  {
   "cell_type": "code",
   "execution_count": 2,
   "metadata": {},
   "outputs": [],
   "source": [
    "def count_syllables(syllb):\n",
    "    counter = 0 # count number of syllables\n",
    "    i = 0 # index of syllb\n",
    "\n",
    "    while i <= len(syllb): # loop through syllb\n",
    "        if syllb[i:i+3] in ['CVC']: # let's look for CVC pattern first (like 'fuʁ' in [fuʁmi])\n",
    "            counter += 1 # we consider this a syllable\n",
    "            i += 3 # move index by 3 (CVC pattern is of length 3)\n",
    "        elif syllb[i:i+2] in ['CV', 'VC']: # then look for CV or VC pattern (like mo in [movɛ])\n",
    "            counter += 1 # we consider this a syllable\n",
    "            i += 2 # move index by 2 (CV or VC pattern is of length 2)\n",
    "        elif syllb[i:i+2] in ['CC', 'VV']: # then look for CC or VV paterns (usually not a syllable)\n",
    "            i += 1 # move index by 1 (we are looking for CVC or CV/VC or just V or C)\n",
    "        else:\n",
    "            counter += 1\n",
    "            i += 1\n",
    "\n",
    "    return counter - 1 # we subtract 1 because the last else also captures empty string"
   ]
  },
  {
   "cell_type": "markdown",
   "metadata": {},
   "source": [
    "### 0. Basic CLDF manipulation"
   ]
  },
  {
   "cell_type": "markdown",
   "metadata": {},
   "source": [
    "The lexibank data can be downloaded from [here](https://zenodo.org/records/7836668). You then need to unzip it, and the unzip the forms.csv file in the cldf forlder. Here is an automated script that does that for you:"
   ]
  },
  {
   "cell_type": "code",
   "execution_count": 3,
   "metadata": {},
   "outputs": [
    {
     "name": "stdout",
     "output_type": "stream",
     "text": [
      "unzip:  cannot find or open data/lexibank-analysed-v1.0.zip, data/lexibank-analysed-v1.0.zip.zip or data/lexibank-analysed-v1.0.zip.ZIP.\n"
     ]
    },
    {
     "name": "stdout",
     "output_type": "stream",
     "text": [
      "Archive:  data/lexibank-lexibank-analysed-a4c0952/cldf/forms.csv.zip\n",
      "  inflating: data/lexibank-lexibank-analysed-a4c0952/cldf/forms.csv  \n"
     ]
    }
   ],
   "source": [
    "# unzip the lexibank-analysed-v1.0.zip file in the data folder\n",
    "!unzip -o data/lexibank-analysed-v1.0.zip -d data/\n",
    "# unzip the forms.csv file in the cldf folder\n",
    "!unzip -o data/lexibank-lexibank-analysed-a4c0952/cldf/forms.csv.zip -d data/lexibank-lexibank-analysed-a4c0952/cldf/"
   ]
  },
  {
   "cell_type": "markdown",
   "metadata": {},
   "source": [
    "We need tree files; forms, languages and concepts:"
   ]
  },
  {
   "cell_type": "code",
   "execution_count": 59,
   "metadata": {},
   "outputs": [],
   "source": [
    "forms = pd.read_csv('data/lexibank-lexibank-analysed-a4c0952/cldf/forms.csv')\n",
    "languages = pd.read_csv('data/lexibank-lexibank-analysed-a4c0952/cldf/languages.csv')\n",
    "concepts = pd.read_csv('data/lexibank-lexibank-analysed-a4c0952/cldf/concepts.csv')"
   ]
  },
  {
   "cell_type": "code",
   "execution_count": 60,
   "metadata": {},
   "outputs": [],
   "source": [
    "# match forms with languages by Language_ID and ID\n",
    "forms = forms.merge(languages, left_on='Language_ID', right_on='ID')\n",
    "# match concepts by Parameter_ID and ID\n",
    "forms = forms.merge(concepts, left_on='Parameter_ID', right_on='ID')\n",
    "forms['Length'] = forms['Segments'].str.strip().str.count(' ') + 1\n",
    "# convert Glottocode column to string\n",
    "forms['Glottocode'] = forms['Glottocode'].astype(str)\n",
    "forms['Number_of_meanings'] = forms.groupby(['Form', 'Language_ID'])['Concepticon_ID'].transform('nunique')"
   ]
  },
  {
   "cell_type": "markdown",
   "metadata": {},
   "source": [
    "Let's look at the dataset we have:"
   ]
  },
  {
   "cell_type": "code",
   "execution_count": 61,
   "metadata": {},
   "outputs": [
    {
     "data": {
      "text/html": [
       "<div>\n",
       "<style scoped>\n",
       "    .dataframe tbody tr th:only-of-type {\n",
       "        vertical-align: middle;\n",
       "    }\n",
       "\n",
       "    .dataframe tbody tr th {\n",
       "        vertical-align: top;\n",
       "    }\n",
       "\n",
       "    .dataframe thead th {\n",
       "        text-align: right;\n",
       "    }\n",
       "</style>\n",
       "<table border=\"1\" class=\"dataframe\">\n",
       "  <thead>\n",
       "    <tr style=\"text-align: right;\">\n",
       "      <th></th>\n",
       "      <th>ID_x</th>\n",
       "      <th>Language_ID</th>\n",
       "      <th>Parameter_ID</th>\n",
       "      <th>Form</th>\n",
       "      <th>Segments</th>\n",
       "      <th>Comment</th>\n",
       "      <th>Source</th>\n",
       "      <th>Value</th>\n",
       "      <th>Local_ID</th>\n",
       "      <th>Graphemes</th>\n",
       "      <th>...</th>\n",
       "      <th>ID</th>\n",
       "      <th>Name_y</th>\n",
       "      <th>Description</th>\n",
       "      <th>ColumnSpec</th>\n",
       "      <th>Concepticon_ID</th>\n",
       "      <th>Concepticon_Gloss</th>\n",
       "      <th>Central_Concept</th>\n",
       "      <th>Core_Concept</th>\n",
       "      <th>Length</th>\n",
       "      <th>Number_of_meanings</th>\n",
       "    </tr>\n",
       "  </thead>\n",
       "  <tbody>\n",
       "    <tr>\n",
       "      <th>0</th>\n",
       "      <td>aaleykusunda-KusundaK-above-1</td>\n",
       "      <td>aaleykusunda-KusundaK</td>\n",
       "      <td>above</td>\n",
       "      <td>ɐ̃ː.ʤi</td>\n",
       "      <td>ɐ̃ː + dʒ i</td>\n",
       "      <td>NaN</td>\n",
       "      <td>Aaley2019</td>\n",
       "      <td>nɔ̃ː.ʤi ɐ̃ː.ʤi</td>\n",
       "      <td>aaleykusunda-KusundaK-1_above-1</td>\n",
       "      <td>NaN</td>\n",
       "      <td>...</td>\n",
       "      <td>above</td>\n",
       "      <td>ABOVE</td>\n",
       "      <td>NaN</td>\n",
       "      <td>NaN</td>\n",
       "      <td>1741</td>\n",
       "      <td>ABOVE</td>\n",
       "      <td>HIGH</td>\n",
       "      <td>NaN</td>\n",
       "      <td>4</td>\n",
       "      <td>1.0</td>\n",
       "    </tr>\n",
       "    <tr>\n",
       "      <th>453867</th>\n",
       "      <td>abvdoceanic-RapanuiEasterIsland-cutorhack-7</td>\n",
       "      <td>abvdoceanic-RapanuiEasterIsland</td>\n",
       "      <td>cutorhack</td>\n",
       "      <td>hore</td>\n",
       "      <td>h o r e</td>\n",
       "      <td>NaN</td>\n",
       "      <td>Greenhill2008</td>\n",
       "      <td>hore</td>\n",
       "      <td>abvdoceanic-RapanuiEasterIsland-78_tocuthack-7</td>\n",
       "      <td>NaN</td>\n",
       "      <td>...</td>\n",
       "      <td>cutorhack</td>\n",
       "      <td>CUT OR HACK</td>\n",
       "      <td>NaN</td>\n",
       "      <td>NaN</td>\n",
       "      <td>3889</td>\n",
       "      <td>CUT OR HACK</td>\n",
       "      <td>NaN</td>\n",
       "      <td>NaN</td>\n",
       "      <td>4</td>\n",
       "      <td>1.0</td>\n",
       "    </tr>\n",
       "    <tr>\n",
       "      <th>453868</th>\n",
       "      <td>abvdoceanic-RapanuiEasterIsland-cutorhack-8</td>\n",
       "      <td>abvdoceanic-RapanuiEasterIsland</td>\n",
       "      <td>cutorhack</td>\n",
       "      <td>tata</td>\n",
       "      <td>t a t a</td>\n",
       "      <td>NaN</td>\n",
       "      <td>Greenhill2008</td>\n",
       "      <td>tata</td>\n",
       "      <td>abvdoceanic-RapanuiEasterIsland-78_tocuthack-8</td>\n",
       "      <td>NaN</td>\n",
       "      <td>...</td>\n",
       "      <td>cutorhack</td>\n",
       "      <td>CUT OR HACK</td>\n",
       "      <td>NaN</td>\n",
       "      <td>NaN</td>\n",
       "      <td>3889</td>\n",
       "      <td>CUT OR HACK</td>\n",
       "      <td>NaN</td>\n",
       "      <td>NaN</td>\n",
       "      <td>4</td>\n",
       "      <td>1.0</td>\n",
       "    </tr>\n",
       "    <tr>\n",
       "      <th>453869</th>\n",
       "      <td>abvdoceanic-Lakalai-cutorhack-1</td>\n",
       "      <td>abvdoceanic-Lakalai</td>\n",
       "      <td>cutorhack</td>\n",
       "      <td>vari</td>\n",
       "      <td>v a r i</td>\n",
       "      <td>NaN</td>\n",
       "      <td>Greenhill2008</td>\n",
       "      <td>vari</td>\n",
       "      <td>abvdoceanic-Lakalai-78_tocuthack-1</td>\n",
       "      <td>NaN</td>\n",
       "      <td>...</td>\n",
       "      <td>cutorhack</td>\n",
       "      <td>CUT OR HACK</td>\n",
       "      <td>NaN</td>\n",
       "      <td>NaN</td>\n",
       "      <td>3889</td>\n",
       "      <td>CUT OR HACK</td>\n",
       "      <td>NaN</td>\n",
       "      <td>NaN</td>\n",
       "      <td>4</td>\n",
       "      <td>1.0</td>\n",
       "    </tr>\n",
       "    <tr>\n",
       "      <th>453870</th>\n",
       "      <td>abvdoceanic-Lakalai-cutorhack-2</td>\n",
       "      <td>abvdoceanic-Lakalai</td>\n",
       "      <td>cutorhack</td>\n",
       "      <td>tubi</td>\n",
       "      <td>t u b i</td>\n",
       "      <td>NaN</td>\n",
       "      <td>Greenhill2008</td>\n",
       "      <td>tubi</td>\n",
       "      <td>abvdoceanic-Lakalai-78_tocuthack-2</td>\n",
       "      <td>NaN</td>\n",
       "      <td>...</td>\n",
       "      <td>cutorhack</td>\n",
       "      <td>CUT OR HACK</td>\n",
       "      <td>NaN</td>\n",
       "      <td>NaN</td>\n",
       "      <td>3889</td>\n",
       "      <td>CUT OR HACK</td>\n",
       "      <td>NaN</td>\n",
       "      <td>NaN</td>\n",
       "      <td>4</td>\n",
       "      <td>1.0</td>\n",
       "    </tr>\n",
       "    <tr>\n",
       "      <th>...</th>\n",
       "      <td>...</td>\n",
       "      <td>...</td>\n",
       "      <td>...</td>\n",
       "      <td>...</td>\n",
       "      <td>...</td>\n",
       "      <td>...</td>\n",
       "      <td>...</td>\n",
       "      <td>...</td>\n",
       "      <td>...</td>\n",
       "      <td>...</td>\n",
       "      <td>...</td>\n",
       "      <td>...</td>\n",
       "      <td>...</td>\n",
       "      <td>...</td>\n",
       "      <td>...</td>\n",
       "      <td>...</td>\n",
       "      <td>...</td>\n",
       "      <td>...</td>\n",
       "      <td>...</td>\n",
       "      <td>...</td>\n",
       "      <td>...</td>\n",
       "    </tr>\n",
       "    <tr>\n",
       "      <th>617305</th>\n",
       "      <td>savelyevturkic-Dolgan-with-1</td>\n",
       "      <td>savelyevturkic-Dolgan</td>\n",
       "      <td>with</td>\n",
       "      <td>NaN</td>\n",
       "      <td>n a n</td>\n",
       "      <td>NaN</td>\n",
       "      <td>Savelyev2020</td>\n",
       "      <td>NaN</td>\n",
       "      <td>savelyevturkic-Dolgan-247_with-1</td>\n",
       "      <td>NaN</td>\n",
       "      <td>...</td>\n",
       "      <td>with</td>\n",
       "      <td>WITH</td>\n",
       "      <td>NaN</td>\n",
       "      <td>NaN</td>\n",
       "      <td>1340</td>\n",
       "      <td>WITH</td>\n",
       "      <td>AND</td>\n",
       "      <td>Swadesh-1952-200</td>\n",
       "      <td>3</td>\n",
       "      <td>NaN</td>\n",
       "    </tr>\n",
       "    <tr>\n",
       "      <th>630557</th>\n",
       "      <td>marrisonnaga-Jingpho-self-2</td>\n",
       "      <td>marrisonnaga-Jingpho</td>\n",
       "      <td>self</td>\n",
       "      <td>NaN</td>\n",
       "      <td>n a n</td>\n",
       "      <td>NaN</td>\n",
       "      <td>Marrison1967</td>\n",
       "      <td>NaN</td>\n",
       "      <td>marrisonnaga-Jingpho-640_self-2</td>\n",
       "      <td>NaN</td>\n",
       "      <td>...</td>\n",
       "      <td>self</td>\n",
       "      <td>SELF</td>\n",
       "      <td>NaN</td>\n",
       "      <td>NaN</td>\n",
       "      <td>1993</td>\n",
       "      <td>SELF</td>\n",
       "      <td>NaN</td>\n",
       "      <td>NaN</td>\n",
       "      <td>3</td>\n",
       "      <td>NaN</td>\n",
       "    </tr>\n",
       "    <tr>\n",
       "      <th>648333</th>\n",
       "      <td>johanssonsoundsymbolic-Kunza-lowerleg-1</td>\n",
       "      <td>johanssonsoundsymbolic-Kunza</td>\n",
       "      <td>lowerleg</td>\n",
       "      <td>NaN</td>\n",
       "      <td>n a n</td>\n",
       "      <td>NaN</td>\n",
       "      <td>Johansson2020</td>\n",
       "      <td>NaN</td>\n",
       "      <td>johanssonsoundsymbolic-Kunza-123_lowerleg-1</td>\n",
       "      <td>NaN</td>\n",
       "      <td>...</td>\n",
       "      <td>lowerleg</td>\n",
       "      <td>LOWER LEG</td>\n",
       "      <td>NaN</td>\n",
       "      <td>NaN</td>\n",
       "      <td>447</td>\n",
       "      <td>LOWER LEG</td>\n",
       "      <td>LEG</td>\n",
       "      <td>NaN</td>\n",
       "      <td>3</td>\n",
       "      <td>NaN</td>\n",
       "    </tr>\n",
       "    <tr>\n",
       "      <th>655641</th>\n",
       "      <td>transnewguineaorg-gaikundi-wetwoexclusive-1</td>\n",
       "      <td>transnewguineaorg-gaikundi</td>\n",
       "      <td>wetwoexclusive</td>\n",
       "      <td>NaN</td>\n",
       "      <td>n a n</td>\n",
       "      <td>NaN</td>\n",
       "      <td>Greenhill2015</td>\n",
       "      <td>NaN</td>\n",
       "      <td>transnewguineaorg-gaikundi-1866_weexclpluralpr...</td>\n",
       "      <td>NaN</td>\n",
       "      <td>...</td>\n",
       "      <td>wetwoexclusive</td>\n",
       "      <td>WE TWO (EXCLUSIVE)</td>\n",
       "      <td>NaN</td>\n",
       "      <td>NaN</td>\n",
       "      <td>2636</td>\n",
       "      <td>WE TWO (EXCLUSIVE)</td>\n",
       "      <td>WE TWO</td>\n",
       "      <td>NaN</td>\n",
       "      <td>3</td>\n",
       "      <td>NaN</td>\n",
       "    </tr>\n",
       "    <tr>\n",
       "      <th>700943</th>\n",
       "      <td>marrisonnaga-Jingpho-youtwo-1</td>\n",
       "      <td>marrisonnaga-Jingpho</td>\n",
       "      <td>youtwo</td>\n",
       "      <td>NaN</td>\n",
       "      <td>n a n</td>\n",
       "      <td>NaN</td>\n",
       "      <td>Marrison1967</td>\n",
       "      <td>NaN</td>\n",
       "      <td>marrisonnaga-Jingpho-908_youtwo-1</td>\n",
       "      <td>NaN</td>\n",
       "      <td>...</td>\n",
       "      <td>youtwo</td>\n",
       "      <td>YOU TWO</td>\n",
       "      <td>NaN</td>\n",
       "      <td>NaN</td>\n",
       "      <td>2111</td>\n",
       "      <td>YOU TWO</td>\n",
       "      <td>WE TWO</td>\n",
       "      <td>NaN</td>\n",
       "      <td>3</td>\n",
       "      <td>NaN</td>\n",
       "    </tr>\n",
       "  </tbody>\n",
       "</table>\n",
       "<p>709638 rows × 42 columns</p>\n",
       "</div>"
      ],
      "text/plain": [
       "                                               ID_x   \n",
       "0                     aaleykusunda-KusundaK-above-1  \\\n",
       "453867  abvdoceanic-RapanuiEasterIsland-cutorhack-7   \n",
       "453868  abvdoceanic-RapanuiEasterIsland-cutorhack-8   \n",
       "453869              abvdoceanic-Lakalai-cutorhack-1   \n",
       "453870              abvdoceanic-Lakalai-cutorhack-2   \n",
       "...                                             ...   \n",
       "617305                 savelyevturkic-Dolgan-with-1   \n",
       "630557                  marrisonnaga-Jingpho-self-2   \n",
       "648333      johanssonsoundsymbolic-Kunza-lowerleg-1   \n",
       "655641  transnewguineaorg-gaikundi-wetwoexclusive-1   \n",
       "700943                marrisonnaga-Jingpho-youtwo-1   \n",
       "\n",
       "                            Language_ID    Parameter_ID    Form    Segments   \n",
       "0                 aaleykusunda-KusundaK           above  ɐ̃ː.ʤi  ɐ̃ː + dʒ i  \\\n",
       "453867  abvdoceanic-RapanuiEasterIsland       cutorhack    hore     h o r e   \n",
       "453868  abvdoceanic-RapanuiEasterIsland       cutorhack    tata     t a t a   \n",
       "453869              abvdoceanic-Lakalai       cutorhack    vari     v a r i   \n",
       "453870              abvdoceanic-Lakalai       cutorhack    tubi     t u b i   \n",
       "...                                 ...             ...     ...         ...   \n",
       "617305            savelyevturkic-Dolgan            with     NaN       n a n   \n",
       "630557             marrisonnaga-Jingpho            self     NaN       n a n   \n",
       "648333     johanssonsoundsymbolic-Kunza        lowerleg     NaN       n a n   \n",
       "655641       transnewguineaorg-gaikundi  wetwoexclusive     NaN       n a n   \n",
       "700943             marrisonnaga-Jingpho          youtwo     NaN       n a n   \n",
       "\n",
       "        Comment         Source           Value   \n",
       "0           NaN      Aaley2019  nɔ̃ː.ʤi ɐ̃ː.ʤi  \\\n",
       "453867      NaN  Greenhill2008            hore   \n",
       "453868      NaN  Greenhill2008            tata   \n",
       "453869      NaN  Greenhill2008            vari   \n",
       "453870      NaN  Greenhill2008            tubi   \n",
       "...         ...            ...             ...   \n",
       "617305      NaN   Savelyev2020             NaN   \n",
       "630557      NaN   Marrison1967             NaN   \n",
       "648333      NaN  Johansson2020             NaN   \n",
       "655641      NaN  Greenhill2015             NaN   \n",
       "700943      NaN   Marrison1967             NaN   \n",
       "\n",
       "                                                 Local_ID  Graphemes  ...   \n",
       "0                         aaleykusunda-KusundaK-1_above-1        NaN  ...  \\\n",
       "453867     abvdoceanic-RapanuiEasterIsland-78_tocuthack-7        NaN  ...   \n",
       "453868     abvdoceanic-RapanuiEasterIsland-78_tocuthack-8        NaN  ...   \n",
       "453869                 abvdoceanic-Lakalai-78_tocuthack-1        NaN  ...   \n",
       "453870                 abvdoceanic-Lakalai-78_tocuthack-2        NaN  ...   \n",
       "...                                                   ...        ...  ...   \n",
       "617305                   savelyevturkic-Dolgan-247_with-1        NaN  ...   \n",
       "630557                    marrisonnaga-Jingpho-640_self-2        NaN  ...   \n",
       "648333        johanssonsoundsymbolic-Kunza-123_lowerleg-1        NaN  ...   \n",
       "655641  transnewguineaorg-gaikundi-1866_weexclpluralpr...        NaN  ...   \n",
       "700943                  marrisonnaga-Jingpho-908_youtwo-1        NaN  ...   \n",
       "\n",
       "                    ID              Name_y  Description ColumnSpec   \n",
       "0                above               ABOVE          NaN        NaN  \\\n",
       "453867       cutorhack         CUT OR HACK          NaN        NaN   \n",
       "453868       cutorhack         CUT OR HACK          NaN        NaN   \n",
       "453869       cutorhack         CUT OR HACK          NaN        NaN   \n",
       "453870       cutorhack         CUT OR HACK          NaN        NaN   \n",
       "...                ...                 ...          ...        ...   \n",
       "617305            with                WITH          NaN        NaN   \n",
       "630557            self                SELF          NaN        NaN   \n",
       "648333        lowerleg           LOWER LEG          NaN        NaN   \n",
       "655641  wetwoexclusive  WE TWO (EXCLUSIVE)          NaN        NaN   \n",
       "700943          youtwo             YOU TWO          NaN        NaN   \n",
       "\n",
       "       Concepticon_ID   Concepticon_Gloss Central_Concept      Core_Concept   \n",
       "0                1741               ABOVE            HIGH               NaN  \\\n",
       "453867           3889         CUT OR HACK             NaN               NaN   \n",
       "453868           3889         CUT OR HACK             NaN               NaN   \n",
       "453869           3889         CUT OR HACK             NaN               NaN   \n",
       "453870           3889         CUT OR HACK             NaN               NaN   \n",
       "...               ...                 ...             ...               ...   \n",
       "617305           1340                WITH             AND  Swadesh-1952-200   \n",
       "630557           1993                SELF             NaN               NaN   \n",
       "648333            447           LOWER LEG             LEG               NaN   \n",
       "655641           2636  WE TWO (EXCLUSIVE)          WE TWO               NaN   \n",
       "700943           2111             YOU TWO          WE TWO               NaN   \n",
       "\n",
       "       Length  Number_of_meanings  \n",
       "0           4                 1.0  \n",
       "453867      4                 1.0  \n",
       "453868      4                 1.0  \n",
       "453869      4                 1.0  \n",
       "453870      4                 1.0  \n",
       "...       ...                 ...  \n",
       "617305      3                 NaN  \n",
       "630557      3                 NaN  \n",
       "648333      3                 NaN  \n",
       "655641      3                 NaN  \n",
       "700943      3                 NaN  \n",
       "\n",
       "[709638 rows x 42 columns]"
      ]
     },
     "execution_count": 61,
     "metadata": {},
     "output_type": "execute_result"
    }
   ],
   "source": [
    "forms.sort_values(by='Number_of_meanings')"
   ]
  },
  {
   "cell_type": "code",
   "execution_count": 38,
   "metadata": {},
   "outputs": [],
   "source": [
    "forms.to_csv('data/forms_total.csv', index=False)"
   ]
  },
  {
   "cell_type": "markdown",
   "metadata": {},
   "source": [
    "### 0. All data"
   ]
  },
  {
   "cell_type": "markdown",
   "metadata": {},
   "source": [
    "Count the number of Forms per Language:"
   ]
  },
  {
   "cell_type": "code",
   "execution_count": 7,
   "metadata": {},
   "outputs": [],
   "source": [
    "forms.dropna(subset=['Family'], inplace=True) "
   ]
  },
  {
   "cell_type": "code",
   "execution_count": 8,
   "metadata": {},
   "outputs": [],
   "source": [
    "n_form_family = forms.groupby([\"Language_ID\", \"Family\"])[\"Form\"].count().reset_index()\n",
    "n_form_family = n_form_family.groupby(\"Family\")[\"Form\"].mean().round(1).reset_index()\n",
    "n_form_family.sort_values(by=\"Form\", ascending=False, inplace=True)"
   ]
  },
  {
   "cell_type": "code",
   "execution_count": 9,
   "metadata": {},
   "outputs": [
    {
     "data": {
      "text/html": [
       "<div>\n",
       "<style scoped>\n",
       "    .dataframe tbody tr th:only-of-type {\n",
       "        vertical-align: middle;\n",
       "    }\n",
       "\n",
       "    .dataframe tbody tr th {\n",
       "        vertical-align: top;\n",
       "    }\n",
       "\n",
       "    .dataframe thead th {\n",
       "        text-align: right;\n",
       "    }\n",
       "</style>\n",
       "<table border=\"1\" class=\"dataframe\">\n",
       "  <thead>\n",
       "    <tr style=\"text-align: right;\">\n",
       "      <th></th>\n",
       "      <th>Family</th>\n",
       "      <th>Form</th>\n",
       "    </tr>\n",
       "  </thead>\n",
       "  <tbody>\n",
       "    <tr>\n",
       "      <th>69</th>\n",
       "      <td>Indo-European</td>\n",
       "      <td>859.4</td>\n",
       "    </tr>\n",
       "  </tbody>\n",
       "</table>\n",
       "</div>"
      ],
      "text/plain": [
       "           Family   Form\n",
       "69  Indo-European  859.4"
      ]
     },
     "execution_count": 9,
     "metadata": {},
     "output_type": "execute_result"
    }
   ],
   "source": [
    "n_form_family.query(\"Family == 'Indo-European'\")"
   ]
  },
  {
   "cell_type": "code",
   "execution_count": 10,
   "metadata": {},
   "outputs": [
    {
     "data": {
      "text/plain": [
       "110.0"
      ]
     },
     "execution_count": 10,
     "metadata": {},
     "output_type": "execute_result"
    }
   ],
   "source": [
    "n_form_family[\"Form\"].min()"
   ]
  },
  {
   "cell_type": "code",
   "execution_count": 11,
   "metadata": {},
   "outputs": [
    {
     "data": {
      "image/png": "[encoded data removed]",
      "text/plain": [
       "<Figure size 800x400 with 1 Axes>"
      ]
     },
     "metadata": {},
     "output_type": "display_data"
    }
   ],
   "source": [
    "plt.figure(figsize=(8, 4))\n",
    "plt.hist(n_form_family[\"Form\"], bins=100)\n",
    "plt.show()"
   ]
  },
  {
   "cell_type": "code",
   "execution_count": 12,
   "metadata": {},
   "outputs": [],
   "source": [
    "n_forms_lg = forms.groupby(\"Language_ID\")[\"Form\"].count().reset_index()"
   ]
  },
  {
   "cell_type": "code",
   "execution_count": 13,
   "metadata": {},
   "outputs": [
    {
     "data": {
      "image/png": "[encoded data removed]",
      "text/plain": [
       "<Figure size 800x400 with 1 Axes>"
      ]
     },
     "metadata": {},
     "output_type": "display_data"
    }
   ],
   "source": [
    "plt.figure(figsize=(8, 4))\n",
    "plt.hist(n_forms_lg[\"Form\"], bins=100)\n",
    "plt.axvline(n_form_family[\"Form\"].median(), color=\"red\")\n",
    "plt.xlabel(\"Number of forms\")\n",
    "plt.ylabel(\"Number of languages\")\n",
    "plt.show()"
   ]
  },
  {
   "cell_type": "code",
   "execution_count": 14,
   "metadata": {},
   "outputs": [
    {
     "data": {
      "text/html": [
       "<div>\n",
       "<style scoped>\n",
       "    .dataframe tbody tr th:only-of-type {\n",
       "        vertical-align: middle;\n",
       "    }\n",
       "\n",
       "    .dataframe tbody tr th {\n",
       "        vertical-align: top;\n",
       "    }\n",
       "\n",
       "    .dataframe thead th {\n",
       "        text-align: right;\n",
       "    }\n",
       "</style>\n",
       "<table border=\"1\" class=\"dataframe\">\n",
       "  <thead>\n",
       "    <tr style=\"text-align: right;\">\n",
       "      <th></th>\n",
       "      <th>Language_ID</th>\n",
       "      <th>Form</th>\n",
       "    </tr>\n",
       "  </thead>\n",
       "  <tbody>\n",
       "    <tr>\n",
       "      <th>0</th>\n",
       "      <td>abrahammonpa-BugunBichom</td>\n",
       "      <td>253</td>\n",
       "    </tr>\n",
       "    <tr>\n",
       "      <th>5</th>\n",
       "      <td>abrahammonpa-MonpaChangprong</td>\n",
       "      <td>314</td>\n",
       "    </tr>\n",
       "    <tr>\n",
       "      <th>6</th>\n",
       "      <td>abrahammonpa-MonpaDirang</td>\n",
       "      <td>315</td>\n",
       "    </tr>\n",
       "    <tr>\n",
       "      <th>7</th>\n",
       "      <td>abrahammonpa-MonpaKalaktang</td>\n",
       "      <td>318</td>\n",
       "    </tr>\n",
       "    <tr>\n",
       "      <th>8</th>\n",
       "      <td>abrahammonpa-NamreiNabolang</td>\n",
       "      <td>320</td>\n",
       "    </tr>\n",
       "    <tr>\n",
       "      <th>...</th>\n",
       "      <td>...</td>\n",
       "      <td>...</td>\n",
       "    </tr>\n",
       "    <tr>\n",
       "      <th>1946</th>\n",
       "      <td>zgraggenmadang-watiwa</td>\n",
       "      <td>310</td>\n",
       "    </tr>\n",
       "    <tr>\n",
       "      <th>1947</th>\n",
       "      <td>zgraggenmadang-waube</td>\n",
       "      <td>329</td>\n",
       "    </tr>\n",
       "    <tr>\n",
       "      <th>1948</th>\n",
       "      <td>zgraggenmadang-yabong</td>\n",
       "      <td>326</td>\n",
       "    </tr>\n",
       "    <tr>\n",
       "      <th>1949</th>\n",
       "      <td>zgraggenmadang-yangulam</td>\n",
       "      <td>273</td>\n",
       "    </tr>\n",
       "    <tr>\n",
       "      <th>1950</th>\n",
       "      <td>zgraggenmadang-yoidik</td>\n",
       "      <td>322</td>\n",
       "    </tr>\n",
       "  </tbody>\n",
       "</table>\n",
       "<p>922 rows × 2 columns</p>\n",
       "</div>"
      ],
      "text/plain": [
       "                       Language_ID  Form\n",
       "0         abrahammonpa-BugunBichom   253\n",
       "5     abrahammonpa-MonpaChangprong   314\n",
       "6         abrahammonpa-MonpaDirang   315\n",
       "7      abrahammonpa-MonpaKalaktang   318\n",
       "8      abrahammonpa-NamreiNabolang   320\n",
       "...                            ...   ...\n",
       "1946         zgraggenmadang-watiwa   310\n",
       "1947          zgraggenmadang-waube   329\n",
       "1948         zgraggenmadang-yabong   326\n",
       "1949       zgraggenmadang-yangulam   273\n",
       "1950         zgraggenmadang-yoidik   322\n",
       "\n",
       "[922 rows x 2 columns]"
      ]
     },
     "execution_count": 14,
     "metadata": {},
     "output_type": "execute_result"
    }
   ],
   "source": [
    "n_forms_lg.query(\"Form >= 251.0\")"
   ]
  },
  {
   "cell_type": "markdown",
   "metadata": {},
   "source": [
    "### 1. French data"
   ]
  },
  {
   "cell_type": "markdown",
   "metadata": {},
   "source": [
    "Then we can extract the French data using the [glottocode](https://glottolog.org/resource/languoid/id/stan1290). The glottocode for French is *stan1290*. We can use it to filter the data:"
   ]
  },
  {
   "cell_type": "code",
   "execution_count": 48,
   "metadata": {},
   "outputs": [
    {
     "data": {
      "text/html": [
       "<div>\n",
       "<style scoped>\n",
       "    .dataframe tbody tr th:only-of-type {\n",
       "        vertical-align: middle;\n",
       "    }\n",
       "\n",
       "    .dataframe tbody tr th {\n",
       "        vertical-align: top;\n",
       "    }\n",
       "\n",
       "    .dataframe thead th {\n",
       "        text-align: right;\n",
       "    }\n",
       "</style>\n",
       "<table border=\"1\" class=\"dataframe\">\n",
       "  <thead>\n",
       "    <tr style=\"text-align: right;\">\n",
       "      <th></th>\n",
       "      <th>ID_x</th>\n",
       "      <th>Language_ID</th>\n",
       "      <th>Parameter_ID</th>\n",
       "      <th>Form</th>\n",
       "      <th>Segments</th>\n",
       "      <th>Comment</th>\n",
       "      <th>Source</th>\n",
       "      <th>Value</th>\n",
       "      <th>Local_ID</th>\n",
       "      <th>Graphemes</th>\n",
       "      <th>...</th>\n",
       "      <th>ID</th>\n",
       "      <th>Name_y</th>\n",
       "      <th>Description</th>\n",
       "      <th>ColumnSpec</th>\n",
       "      <th>Concepticon_ID</th>\n",
       "      <th>Concepticon_Gloss</th>\n",
       "      <th>Central_Concept</th>\n",
       "      <th>Core_Concept</th>\n",
       "      <th>Length</th>\n",
       "      <th>Colexification</th>\n",
       "    </tr>\n",
       "  </thead>\n",
       "  <tbody>\n",
       "    <tr>\n",
       "      <th>1303</th>\n",
       "      <td>northeuralex-fra-all-1</td>\n",
       "      <td>northeuralex-fra</td>\n",
       "      <td>all</td>\n",
       "      <td>tu</td>\n",
       "      <td>t u</td>\n",
       "      <td>NaN</td>\n",
       "      <td>Dellert2020</td>\n",
       "      <td>tout</td>\n",
       "      <td>northeuralex-fra-639_everything-1</td>\n",
       "      <td>NaN</td>\n",
       "      <td>...</td>\n",
       "      <td>all</td>\n",
       "      <td>ALL</td>\n",
       "      <td>NaN</td>\n",
       "      <td>NaN</td>\n",
       "      <td>98</td>\n",
       "      <td>ALL</td>\n",
       "      <td>MANY</td>\n",
       "      <td>Swadesh-1952-200 Swadesh-1955-100 Starostin-19...</td>\n",
       "      <td>2</td>\n",
       "      <td>1.0</td>\n",
       "    </tr>\n",
       "    <tr>\n",
       "      <th>2640</th>\n",
       "      <td>northeuralex-fra-ant-1</td>\n",
       "      <td>northeuralex-fra</td>\n",
       "      <td>ant</td>\n",
       "      <td>fuʁˈmi</td>\n",
       "      <td>f u ʁ m i</td>\n",
       "      <td>NaN</td>\n",
       "      <td>Dellert2020</td>\n",
       "      <td>fourmi</td>\n",
       "      <td>northeuralex-fra-166_ant-1</td>\n",
       "      <td>NaN</td>\n",
       "      <td>...</td>\n",
       "      <td>ant</td>\n",
       "      <td>ANT</td>\n",
       "      <td>NaN</td>\n",
       "      <td>NaN</td>\n",
       "      <td>587</td>\n",
       "      <td>ANT</td>\n",
       "      <td>ANT</td>\n",
       "      <td>Tadmor-2009-100</td>\n",
       "      <td>5</td>\n",
       "      <td>1.0</td>\n",
       "    </tr>\n",
       "    <tr>\n",
       "      <th>3809</th>\n",
       "      <td>northeuralex-fra-bad-1</td>\n",
       "      <td>northeuralex-fra</td>\n",
       "      <td>bad</td>\n",
       "      <td>moˈvɛ</td>\n",
       "      <td>m o v ɛ</td>\n",
       "      <td>NaN</td>\n",
       "      <td>Dellert2020</td>\n",
       "      <td>mauvais</td>\n",
       "      <td>northeuralex-fra-559_bad-1</td>\n",
       "      <td>NaN</td>\n",
       "      <td>...</td>\n",
       "      <td>bad</td>\n",
       "      <td>BAD</td>\n",
       "      <td>NaN</td>\n",
       "      <td>NaN</td>\n",
       "      <td>1292</td>\n",
       "      <td>BAD</td>\n",
       "      <td>BAD</td>\n",
       "      <td>Swadesh-1952-200</td>\n",
       "      <td>4</td>\n",
       "      <td>3.0</td>\n",
       "    </tr>\n",
       "  </tbody>\n",
       "</table>\n",
       "<p>3 rows × 42 columns</p>\n",
       "</div>"
      ],
      "text/plain": [
       "                        ID_x       Language_ID Parameter_ID    Form   \n",
       "1303  northeuralex-fra-all-1  northeuralex-fra          all      tu  \\\n",
       "2640  northeuralex-fra-ant-1  northeuralex-fra          ant  fuʁˈmi   \n",
       "3809  northeuralex-fra-bad-1  northeuralex-fra          bad   moˈvɛ   \n",
       "\n",
       "       Segments  Comment       Source    Value   \n",
       "1303        t u      NaN  Dellert2020     tout  \\\n",
       "2640  f u ʁ m i      NaN  Dellert2020   fourmi   \n",
       "3809    m o v ɛ      NaN  Dellert2020  mauvais   \n",
       "\n",
       "                               Local_ID  Graphemes  ...   ID  Name_y   \n",
       "1303  northeuralex-fra-639_everything-1        NaN  ...  all     ALL  \\\n",
       "2640         northeuralex-fra-166_ant-1        NaN  ...  ant     ANT   \n",
       "3809         northeuralex-fra-559_bad-1        NaN  ...  bad     BAD   \n",
       "\n",
       "      Description ColumnSpec Concepticon_ID Concepticon_Gloss Central_Concept   \n",
       "1303          NaN        NaN             98               ALL            MANY  \\\n",
       "2640          NaN        NaN            587               ANT             ANT   \n",
       "3809          NaN        NaN           1292               BAD             BAD   \n",
       "\n",
       "                                           Core_Concept Length  Colexification  \n",
       "1303  Swadesh-1952-200 Swadesh-1955-100 Starostin-19...      2             1.0  \n",
       "2640                                    Tadmor-2009-100      5             1.0  \n",
       "3809                                   Swadesh-1952-200      4             3.0  \n",
       "\n",
       "[3 rows x 42 columns]"
      ]
     },
     "execution_count": 48,
     "metadata": {},
     "output_type": "execute_result"
    }
   ],
   "source": [
    "stan1290 = forms[forms['Glottocode'] == 'stan1290']\n",
    "stan1290.head(3)"
   ]
  },
  {
   "cell_type": "code",
   "execution_count": 49,
   "metadata": {},
   "outputs": [
    {
     "data": {
      "text/plain": [
       "(1147, 42)"
      ]
     },
     "execution_count": 49,
     "metadata": {},
     "output_type": "execute_result"
    }
   ],
   "source": [
    "stan1290.shape"
   ]
  },
  {
   "cell_type": "markdown",
   "metadata": {},
   "source": [
    "For now, we only need the **Form**, **Segments** and **Concepticon_ID** columns. We can extract them using the following code:"
   ]
  },
  {
   "cell_type": "code",
   "execution_count": 50,
   "metadata": {},
   "outputs": [
    {
     "data": {
      "text/html": [
       "<div>\n",
       "<style scoped>\n",
       "    .dataframe tbody tr th:only-of-type {\n",
       "        vertical-align: middle;\n",
       "    }\n",
       "\n",
       "    .dataframe tbody tr th {\n",
       "        vertical-align: top;\n",
       "    }\n",
       "\n",
       "    .dataframe thead th {\n",
       "        text-align: right;\n",
       "    }\n",
       "</style>\n",
       "<table border=\"1\" class=\"dataframe\">\n",
       "  <thead>\n",
       "    <tr style=\"text-align: right;\">\n",
       "      <th></th>\n",
       "      <th>Value</th>\n",
       "      <th>Form</th>\n",
       "      <th>Segments</th>\n",
       "      <th>Concepticon_ID</th>\n",
       "      <th>Concepticon_Gloss</th>\n",
       "      <th>CV_Template</th>\n",
       "      <th>N_Syllables</th>\n",
       "    </tr>\n",
       "  </thead>\n",
       "  <tbody>\n",
       "    <tr>\n",
       "      <th>1303</th>\n",
       "      <td>tout</td>\n",
       "      <td>tu</td>\n",
       "      <td>t u</td>\n",
       "      <td>98</td>\n",
       "      <td>ALL</td>\n",
       "      <td>CV</td>\n",
       "      <td>1</td>\n",
       "    </tr>\n",
       "    <tr>\n",
       "      <th>2640</th>\n",
       "      <td>fourmi</td>\n",
       "      <td>fuʁˈmi</td>\n",
       "      <td>f u ʁ m i</td>\n",
       "      <td>587</td>\n",
       "      <td>ANT</td>\n",
       "      <td>CVCCV</td>\n",
       "      <td>2</td>\n",
       "    </tr>\n",
       "    <tr>\n",
       "      <th>3809</th>\n",
       "      <td>mauvais</td>\n",
       "      <td>moˈvɛ</td>\n",
       "      <td>m o v ɛ</td>\n",
       "      <td>1292</td>\n",
       "      <td>BAD</td>\n",
       "      <td>CVCV</td>\n",
       "      <td>2</td>\n",
       "    </tr>\n",
       "    <tr>\n",
       "      <th>6016</th>\n",
       "      <td>vivant</td>\n",
       "      <td>viˈvɑ̃</td>\n",
       "      <td>v i v ɑ̃</td>\n",
       "      <td>1422</td>\n",
       "      <td>BE ALIVE</td>\n",
       "      <td>CVCV</td>\n",
       "      <td>2</td>\n",
       "    </tr>\n",
       "    <tr>\n",
       "      <th>6017</th>\n",
       "      <td>vivre</td>\n",
       "      <td>ˈviːvʁə</td>\n",
       "      <td>v iː v ʁ ə</td>\n",
       "      <td>1422</td>\n",
       "      <td>BE ALIVE</td>\n",
       "      <td>CVCCV</td>\n",
       "      <td>2</td>\n",
       "    </tr>\n",
       "    <tr>\n",
       "      <th>7561</th>\n",
       "      <td>ventre</td>\n",
       "      <td>ˈvɑ̃ːtʁə</td>\n",
       "      <td>v ɑ̃ː t ʁ ə</td>\n",
       "      <td>1251</td>\n",
       "      <td>BELLY</td>\n",
       "      <td>CVCCV</td>\n",
       "      <td>2</td>\n",
       "    </tr>\n",
       "    <tr>\n",
       "      <th>9245</th>\n",
       "      <td>sous</td>\n",
       "      <td>su</td>\n",
       "      <td>s u</td>\n",
       "      <td>1485</td>\n",
       "      <td>BELOW OR UNDER</td>\n",
       "      <td>CV</td>\n",
       "      <td>1</td>\n",
       "    </tr>\n",
       "    <tr>\n",
       "      <th>9246</th>\n",
       "      <td>au-dessous de</td>\n",
       "      <td>odˈsu_də</td>\n",
       "      <td>o d s u + d ə</td>\n",
       "      <td>1485</td>\n",
       "      <td>BELOW OR UNDER</td>\n",
       "      <td>VCCV+CV</td>\n",
       "      <td>4</td>\n",
       "    </tr>\n",
       "    <tr>\n",
       "      <th>10624</th>\n",
       "      <td>grand</td>\n",
       "      <td>ɡʁɑ̃</td>\n",
       "      <td>g ʁ ɑ̃</td>\n",
       "      <td>1202</td>\n",
       "      <td>BIG</td>\n",
       "      <td>CCV</td>\n",
       "      <td>1</td>\n",
       "    </tr>\n",
       "    <tr>\n",
       "      <th>12827</th>\n",
       "      <td>oiseau</td>\n",
       "      <td>waˈzo</td>\n",
       "      <td>w a z o</td>\n",
       "      <td>937</td>\n",
       "      <td>BIRD</td>\n",
       "      <td>CVCV</td>\n",
       "      <td>2</td>\n",
       "    </tr>\n",
       "  </tbody>\n",
       "</table>\n",
       "</div>"
      ],
      "text/plain": [
       "               Value      Form       Segments  Concepticon_ID   \n",
       "1303            tout        tu            t u              98  \\\n",
       "2640          fourmi    fuʁˈmi      f u ʁ m i             587   \n",
       "3809         mauvais     moˈvɛ        m o v ɛ            1292   \n",
       "6016          vivant    viˈvɑ̃       v i v ɑ̃            1422   \n",
       "6017           vivre   ˈviːvʁə     v iː v ʁ ə            1422   \n",
       "7561          ventre  ˈvɑ̃ːtʁə    v ɑ̃ː t ʁ ə            1251   \n",
       "9245            sous        su            s u            1485   \n",
       "9246   au-dessous de  odˈsu_də  o d s u + d ə            1485   \n",
       "10624          grand      ɡʁɑ̃         g ʁ ɑ̃            1202   \n",
       "12827         oiseau     waˈzo        w a z o             937   \n",
       "\n",
       "      Concepticon_Gloss CV_Template  N_Syllables  \n",
       "1303                ALL          CV            1  \n",
       "2640                ANT       CVCCV            2  \n",
       "3809                BAD        CVCV            2  \n",
       "6016           BE ALIVE        CVCV            2  \n",
       "6017           BE ALIVE       CVCCV            2  \n",
       "7561              BELLY       CVCCV            2  \n",
       "9245     BELOW OR UNDER          CV            1  \n",
       "9246     BELOW OR UNDER     VCCV+CV            4  \n",
       "10624               BIG         CCV            1  \n",
       "12827              BIRD        CVCV            2  "
      ]
     },
     "execution_count": 50,
     "metadata": {},
     "output_type": "execute_result"
    }
   ],
   "source": [
    "stan1290 = stan1290[['Value', 'Form', 'Segments', 'Concepticon_ID', 'Concepticon_Gloss', 'CV_Template']]\n",
    "stan1290['N_Syllables'] = stan1290['CV_Template'].apply(count_syllables)\n",
    "stan1290.head(10)"
   ]
  },
  {
   "cell_type": "code",
   "execution_count": 51,
   "metadata": {},
   "outputs": [],
   "source": [
    "stan1290.to_csv('data/stan1290.csv', index=False)"
   ]
  },
  {
   "cell_type": "markdown",
   "metadata": {},
   "source": [
    "We can compute the length of the segments using the following code:"
   ]
  },
  {
   "cell_type": "code",
   "execution_count": 52,
   "metadata": {},
   "outputs": [
    {
     "data": {
      "text/html": [
       "<div>\n",
       "<style scoped>\n",
       "    .dataframe tbody tr th:only-of-type {\n",
       "        vertical-align: middle;\n",
       "    }\n",
       "\n",
       "    .dataframe tbody tr th {\n",
       "        vertical-align: top;\n",
       "    }\n",
       "\n",
       "    .dataframe thead th {\n",
       "        text-align: right;\n",
       "    }\n",
       "</style>\n",
       "<table border=\"1\" class=\"dataframe\">\n",
       "  <thead>\n",
       "    <tr style=\"text-align: right;\">\n",
       "      <th></th>\n",
       "      <th>Value</th>\n",
       "      <th>Form</th>\n",
       "      <th>Segments</th>\n",
       "      <th>Concepticon_ID</th>\n",
       "      <th>Concepticon_Gloss</th>\n",
       "      <th>CV_Template</th>\n",
       "      <th>N_Syllables</th>\n",
       "      <th>Length</th>\n",
       "    </tr>\n",
       "  </thead>\n",
       "  <tbody>\n",
       "    <tr>\n",
       "      <th>1303</th>\n",
       "      <td>tout</td>\n",
       "      <td>tu</td>\n",
       "      <td>t u</td>\n",
       "      <td>98</td>\n",
       "      <td>ALL</td>\n",
       "      <td>CV</td>\n",
       "      <td>1</td>\n",
       "      <td>2</td>\n",
       "    </tr>\n",
       "    <tr>\n",
       "      <th>2640</th>\n",
       "      <td>fourmi</td>\n",
       "      <td>fuʁˈmi</td>\n",
       "      <td>f u ʁ m i</td>\n",
       "      <td>587</td>\n",
       "      <td>ANT</td>\n",
       "      <td>CVCCV</td>\n",
       "      <td>2</td>\n",
       "      <td>5</td>\n",
       "    </tr>\n",
       "    <tr>\n",
       "      <th>3809</th>\n",
       "      <td>mauvais</td>\n",
       "      <td>moˈvɛ</td>\n",
       "      <td>m o v ɛ</td>\n",
       "      <td>1292</td>\n",
       "      <td>BAD</td>\n",
       "      <td>CVCV</td>\n",
       "      <td>2</td>\n",
       "      <td>4</td>\n",
       "    </tr>\n",
       "  </tbody>\n",
       "</table>\n",
       "</div>"
      ],
      "text/plain": [
       "        Value    Form   Segments  Concepticon_ID Concepticon_Gloss   \n",
       "1303     tout      tu        t u              98               ALL  \\\n",
       "2640   fourmi  fuʁˈmi  f u ʁ m i             587               ANT   \n",
       "3809  mauvais   moˈvɛ    m o v ɛ            1292               BAD   \n",
       "\n",
       "     CV_Template  N_Syllables  Length  \n",
       "1303          CV            1       2  \n",
       "2640       CVCCV            2       5  \n",
       "3809        CVCV            2       4  "
      ]
     },
     "execution_count": 52,
     "metadata": {},
     "output_type": "execute_result"
    }
   ],
   "source": [
    "stan1290['Length'] = stan1290['Segments'].str.strip().str.count(' ') + 1\n",
    "stan1290.head(3)"
   ]
  },
  {
   "cell_type": "markdown",
   "metadata": {},
   "source": [
    "Finally, we count the number of meanings by counting the number of repeating concepticon IDs per form. One concepticon ID corresponds to one meaning. We can do that using the following code:"
   ]
  },
  {
   "cell_type": "code",
   "execution_count": 20,
   "metadata": {},
   "outputs": [
    {
     "data": {
      "text/html": [
       "<div>\n",
       "<style scoped>\n",
       "    .dataframe tbody tr th:only-of-type {\n",
       "        vertical-align: middle;\n",
       "    }\n",
       "\n",
       "    .dataframe tbody tr th {\n",
       "        vertical-align: top;\n",
       "    }\n",
       "\n",
       "    .dataframe thead th {\n",
       "        text-align: right;\n",
       "    }\n",
       "</style>\n",
       "<table border=\"1\" class=\"dataframe\">\n",
       "  <thead>\n",
       "    <tr style=\"text-align: right;\">\n",
       "      <th></th>\n",
       "      <th>Value</th>\n",
       "      <th>Form</th>\n",
       "      <th>Segments</th>\n",
       "      <th>Concepticon_ID</th>\n",
       "      <th>Concepticon_Gloss</th>\n",
       "      <th>CV_Template</th>\n",
       "      <th>N_Syllables</th>\n",
       "      <th>Length</th>\n",
       "      <th>Number_of_meanings</th>\n",
       "    </tr>\n",
       "  </thead>\n",
       "  <tbody>\n",
       "    <tr>\n",
       "      <th>1303</th>\n",
       "      <td>tout</td>\n",
       "      <td>tu</td>\n",
       "      <td>t u</td>\n",
       "      <td>98</td>\n",
       "      <td>ALL</td>\n",
       "      <td>CV</td>\n",
       "      <td>1</td>\n",
       "      <td>2</td>\n",
       "      <td>1</td>\n",
       "    </tr>\n",
       "    <tr>\n",
       "      <th>2640</th>\n",
       "      <td>fourmi</td>\n",
       "      <td>fuʁˈmi</td>\n",
       "      <td>f u ʁ m i</td>\n",
       "      <td>587</td>\n",
       "      <td>ANT</td>\n",
       "      <td>CVCCV</td>\n",
       "      <td>2</td>\n",
       "      <td>5</td>\n",
       "      <td>1</td>\n",
       "    </tr>\n",
       "    <tr>\n",
       "      <th>3809</th>\n",
       "      <td>mauvais</td>\n",
       "      <td>moˈvɛ</td>\n",
       "      <td>m o v ɛ</td>\n",
       "      <td>1292</td>\n",
       "      <td>BAD</td>\n",
       "      <td>CVCV</td>\n",
       "      <td>2</td>\n",
       "      <td>4</td>\n",
       "      <td>3</td>\n",
       "    </tr>\n",
       "  </tbody>\n",
       "</table>\n",
       "</div>"
      ],
      "text/plain": [
       "        Value    Form   Segments  Concepticon_ID Concepticon_Gloss   \n",
       "1303     tout      tu        t u              98               ALL  \\\n",
       "2640   fourmi  fuʁˈmi  f u ʁ m i             587               ANT   \n",
       "3809  mauvais   moˈvɛ    m o v ɛ            1292               BAD   \n",
       "\n",
       "     CV_Template  N_Syllables  Length  Number_of_meanings  \n",
       "1303          CV            1       2                   1  \n",
       "2640       CVCCV            2       5                   1  \n",
       "3809        CVCV            2       4                   3  "
      ]
     },
     "execution_count": 20,
     "metadata": {},
     "output_type": "execute_result"
    }
   ],
   "source": [
    "# for each Form, count the number of repeating Concepticon_IDs\n",
    "stan1290['Number_of_meanings'] = stan1290.groupby('Form')['Concepticon_ID'].transform('nunique')\n",
    "stan1290.head(3)"
   ]
  },
  {
   "cell_type": "markdown",
   "metadata": {},
   "source": [
    "Since we have a new column that just counts the number of meanings, we can just remove any duplicated forms."
   ]
  },
  {
   "cell_type": "code",
   "execution_count": 21,
   "metadata": {},
   "outputs": [
    {
     "data": {
      "text/html": [
       "<div>\n",
       "<style scoped>\n",
       "    .dataframe tbody tr th:only-of-type {\n",
       "        vertical-align: middle;\n",
       "    }\n",
       "\n",
       "    .dataframe tbody tr th {\n",
       "        vertical-align: top;\n",
       "    }\n",
       "\n",
       "    .dataframe thead th {\n",
       "        text-align: right;\n",
       "    }\n",
       "</style>\n",
       "<table border=\"1\" class=\"dataframe\">\n",
       "  <thead>\n",
       "    <tr style=\"text-align: right;\">\n",
       "      <th></th>\n",
       "      <th>Value</th>\n",
       "      <th>Form</th>\n",
       "      <th>Segments</th>\n",
       "      <th>Concepticon_ID</th>\n",
       "      <th>Concepticon_Gloss</th>\n",
       "      <th>CV_Template</th>\n",
       "      <th>N_Syllables</th>\n",
       "      <th>Length</th>\n",
       "      <th>Number_of_meanings</th>\n",
       "    </tr>\n",
       "  </thead>\n",
       "  <tbody>\n",
       "    <tr>\n",
       "      <th>1303</th>\n",
       "      <td>tout</td>\n",
       "      <td>tu</td>\n",
       "      <td>t u</td>\n",
       "      <td>98</td>\n",
       "      <td>ALL</td>\n",
       "      <td>CV</td>\n",
       "      <td>1</td>\n",
       "      <td>2</td>\n",
       "      <td>1</td>\n",
       "    </tr>\n",
       "    <tr>\n",
       "      <th>2640</th>\n",
       "      <td>fourmi</td>\n",
       "      <td>fuʁˈmi</td>\n",
       "      <td>f u ʁ m i</td>\n",
       "      <td>587</td>\n",
       "      <td>ANT</td>\n",
       "      <td>CVCCV</td>\n",
       "      <td>2</td>\n",
       "      <td>5</td>\n",
       "      <td>1</td>\n",
       "    </tr>\n",
       "    <tr>\n",
       "      <th>3809</th>\n",
       "      <td>mauvais</td>\n",
       "      <td>moˈvɛ</td>\n",
       "      <td>m o v ɛ</td>\n",
       "      <td>1292</td>\n",
       "      <td>BAD</td>\n",
       "      <td>CVCV</td>\n",
       "      <td>2</td>\n",
       "      <td>4</td>\n",
       "      <td>3</td>\n",
       "    </tr>\n",
       "  </tbody>\n",
       "</table>\n",
       "</div>"
      ],
      "text/plain": [
       "        Value    Form   Segments  Concepticon_ID Concepticon_Gloss   \n",
       "1303     tout      tu        t u              98               ALL  \\\n",
       "2640   fourmi  fuʁˈmi  f u ʁ m i             587               ANT   \n",
       "3809  mauvais   moˈvɛ    m o v ɛ            1292               BAD   \n",
       "\n",
       "     CV_Template  N_Syllables  Length  Number_of_meanings  \n",
       "1303          CV            1       2                   1  \n",
       "2640       CVCCV            2       5                   1  \n",
       "3809        CVCV            2       4                   3  "
      ]
     },
     "execution_count": 21,
     "metadata": {},
     "output_type": "execute_result"
    }
   ],
   "source": [
    "# drop duplicates by Form\n",
    "stan1290 = stan1290.drop_duplicates(subset=['Form'])\n",
    "stan1290.head(3)"
   ]
  },
  {
   "cell_type": "code",
   "execution_count": 22,
   "metadata": {},
   "outputs": [
    {
     "data": {
      "text/html": [
       "<div>\n",
       "<style scoped>\n",
       "    .dataframe tbody tr th:only-of-type {\n",
       "        vertical-align: middle;\n",
       "    }\n",
       "\n",
       "    .dataframe tbody tr th {\n",
       "        vertical-align: top;\n",
       "    }\n",
       "\n",
       "    .dataframe thead th {\n",
       "        text-align: right;\n",
       "    }\n",
       "</style>\n",
       "<table border=\"1\" class=\"dataframe\">\n",
       "  <thead>\n",
       "    <tr style=\"text-align: right;\">\n",
       "      <th></th>\n",
       "      <th>Value</th>\n",
       "      <th>Form</th>\n",
       "      <th>Segments</th>\n",
       "      <th>Concepticon_ID</th>\n",
       "      <th>Concepticon_Gloss</th>\n",
       "      <th>CV_Template</th>\n",
       "      <th>N_Syllables</th>\n",
       "      <th>Length</th>\n",
       "      <th>Number_of_meanings</th>\n",
       "    </tr>\n",
       "  </thead>\n",
       "  <tbody>\n",
       "    <tr>\n",
       "      <th>1303</th>\n",
       "      <td>tout</td>\n",
       "      <td>tu</td>\n",
       "      <td>t u</td>\n",
       "      <td>98</td>\n",
       "      <td>ALL</td>\n",
       "      <td>CV</td>\n",
       "      <td>1</td>\n",
       "      <td>2</td>\n",
       "      <td>1</td>\n",
       "    </tr>\n",
       "    <tr>\n",
       "      <th>589099</th>\n",
       "      <td>se souvenir de</td>\n",
       "      <td>səsuvəˈniʁ_də</td>\n",
       "      <td>s ə s u v ə n i ʁ + d ə</td>\n",
       "      <td>707</td>\n",
       "      <td>REMEMBER</td>\n",
       "      <td>CVCVCVCVC+CV</td>\n",
       "      <td>6</td>\n",
       "      <td>12</td>\n",
       "      <td>1</td>\n",
       "    </tr>\n",
       "    <tr>\n",
       "      <th>590377</th>\n",
       "      <td>essayer</td>\n",
       "      <td>esɛˈje</td>\n",
       "      <td>e s ɛ j e</td>\n",
       "      <td>1812</td>\n",
       "      <td>TRY</td>\n",
       "      <td>VCVCV</td>\n",
       "      <td>3</td>\n",
       "      <td>5</td>\n",
       "      <td>1</td>\n",
       "    </tr>\n",
       "  </tbody>\n",
       "</table>\n",
       "</div>"
      ],
      "text/plain": [
       "                 Value           Form                 Segments   \n",
       "1303              tout             tu                      t u  \\\n",
       "589099  se souvenir de  səsuvəˈniʁ_də  s ə s u v ə n i ʁ + d ə   \n",
       "590377         essayer         esɛˈje                e s ɛ j e   \n",
       "\n",
       "        Concepticon_ID Concepticon_Gloss   CV_Template  N_Syllables  Length   \n",
       "1303                98               ALL            CV            1       2  \\\n",
       "589099             707          REMEMBER  CVCVCVCVC+CV            6      12   \n",
       "590377            1812               TRY         VCVCV            3       5   \n",
       "\n",
       "        Number_of_meanings  \n",
       "1303                     1  \n",
       "589099                   1  \n",
       "590377                   1  "
      ]
     },
     "execution_count": 22,
     "metadata": {},
     "output_type": "execute_result"
    }
   ],
   "source": [
    "stan1290.sort_values(by=['Number_of_meanings'], ascending=True).head(3)"
   ]
  },
  {
   "cell_type": "markdown",
   "metadata": {},
   "source": [
    "### 2. Your tasks"
   ]
  },
  {
   "cell_type": "markdown",
   "metadata": {},
   "source": [
    "Compute the average number of meanings."
   ]
  },
  {
   "cell_type": "code",
   "execution_count": 23,
   "metadata": {},
   "outputs": [
    {
     "name": "stdout",
     "output_type": "stream",
     "text": [
      "1.1071428571428572\n"
     ]
    }
   ],
   "source": [
    "# your code here\n",
    "print(stan1290[\"Number_of_meanings\"].mean())"
   ]
  },
  {
   "cell_type": "markdown",
   "metadata": {},
   "source": [
    "Compute the mean number of meanings per each length value (hint: use groupby() and agg() from pandas)."
   ]
  },
  {
   "cell_type": "code",
   "execution_count": 24,
   "metadata": {},
   "outputs": [
    {
     "data": {
      "text/plain": [
       "Length\n",
       "1     1.333333\n",
       "2     1.197368\n",
       "3     1.173267\n",
       "4     1.126050\n",
       "5     1.075630\n",
       "6     1.055944\n",
       "7     1.044776\n",
       "8     1.000000\n",
       "9     1.000000\n",
       "10    1.000000\n",
       "11    1.000000\n",
       "12    1.000000\n",
       "16    1.000000\n",
       "Name: Number_of_meanings, dtype: float64"
      ]
     },
     "execution_count": 24,
     "metadata": {},
     "output_type": "execute_result"
    }
   ],
   "source": [
    "# your code here\n",
    "stan1290.groupby(\"Length\")[\"Number_of_meanings\"].agg(np.mean)"
   ]
  },
  {
   "cell_type": "markdown",
   "metadata": {},
   "source": [
    "Plot the distribution of meanings."
   ]
  },
  {
   "cell_type": "code",
   "execution_count": 25,
   "metadata": {},
   "outputs": [
    {
     "data": {
      "text/plain": [
       "<Axes: >"
      ]
     },
     "execution_count": 25,
     "metadata": {},
     "output_type": "execute_result"
    },
    {
     "data": {
      "image/png": "[encoded data removed]",
      "text/plain": [
       "<Figure size 640x480 with 1 Axes>"
      ]
     },
     "metadata": {},
     "output_type": "display_data"
    }
   ],
   "source": [
    "# your code here\n",
    "stan1290[\"Number_of_meanings\"].hist(bins=6)"
   ]
  },
  {
   "cell_type": "markdown",
   "metadata": {},
   "source": [
    "Make a nicer plot using [matplotlib](https://matplotlib.org/stable/users/explain/quick_start.html#quick-start). Play with the color, with grid, figure size, etc."
   ]
  },
  {
   "cell_type": "code",
   "execution_count": 26,
   "metadata": {},
   "outputs": [
    {
     "data": {
      "image/png": "[encoded data removed]",
      "text/plain": [
       "<Figure size 800x400 with 1 Axes>"
      ]
     },
     "metadata": {},
     "output_type": "display_data"
    }
   ],
   "source": [
    "# your code here\n",
    "# stan1290.plot(x=\"Number_of_meanings\",kind=\"bar\",title=\"Number of meanings of French words\",figsize=(5,5),color=\"purple\")\n",
    "# plt.legend([\"Number of meanings\"])\n",
    "# plt.show()\n",
    "#I don't know why the figure is so strange, it was even worse when I added grid(axis=\"x\"). Also the x-axis is in black\n",
    "## Correction:\n",
    "plt.figure(figsize=(8,4))\n",
    "plt.hist(stan1290['Number_of_meanings'], \n",
    "         bins=6, color='purple', align = 'left')\n",
    "# only keep integer values on x-axis\n",
    "plt.xticks(np.arange(1, 4, 1))\n",
    "plt.show()"
   ]
  },
  {
   "cell_type": "markdown",
   "metadata": {},
   "source": [
    "Plot the distribution of lengths."
   ]
  },
  {
   "cell_type": "code",
   "execution_count": 27,
   "metadata": {},
   "outputs": [
    {
     "data": {
      "text/plain": [
       "<Axes: >"
      ]
     },
     "execution_count": 27,
     "metadata": {},
     "output_type": "execute_result"
    },
    {
     "data": {
      "image/png": "[encoded data removed]",
      "text/plain": [
       "<Figure size 640x480 with 1 Axes>"
      ]
     },
     "metadata": {},
     "output_type": "display_data"
    }
   ],
   "source": [
    "# your code here\n",
    "stan1290[\"Length\"].hist(bins=100)"
   ]
  },
  {
   "cell_type": "markdown",
   "metadata": {},
   "source": [
    "Same for the distribution of lengths."
   ]
  },
  {
   "cell_type": "code",
   "execution_count": 28,
   "metadata": {},
   "outputs": [
    {
     "data": {
      "image/png": "[encoded data removed]",
      "text/plain": [
       "<Figure size 800x400 with 1 Axes>"
      ]
     },
     "metadata": {},
     "output_type": "display_data"
    }
   ],
   "source": [
    "# your code here\n",
    "# stan1290.plot(x=\"Length\",kind=\"bar\",title=\"Distribution of French words'length\",figsize=(5,5),color=\"pink\")\n",
    "# plt.legend([\"Length\"])\n",
    "# plt.show()\n",
    "## Correction:\n",
    "plt.figure(figsize=(8,4))\n",
    "plt.hist(stan1290['Length'], \n",
    "         bins=100, color='blue', align = 'mid')\n",
    "plt.grid(alpha=0.5, linestyle='--')\n",
    "plt.xlabel('Length of words')\n",
    "plt.ylabel('Count')\n",
    "plt.show()"
   ]
  },
  {
   "cell_type": "markdown",
   "metadata": {},
   "source": [
    "Try to create other measures of word length, such as the number of syllables "
   ]
  },
  {
   "cell_type": "code",
   "execution_count": 29,
   "metadata": {},
   "outputs": [
    {
     "data": {
      "text/html": [
       "<div>\n",
       "<style scoped>\n",
       "    .dataframe tbody tr th:only-of-type {\n",
       "        vertical-align: middle;\n",
       "    }\n",
       "\n",
       "    .dataframe tbody tr th {\n",
       "        vertical-align: top;\n",
       "    }\n",
       "\n",
       "    .dataframe thead th {\n",
       "        text-align: right;\n",
       "    }\n",
       "</style>\n",
       "<table border=\"1\" class=\"dataframe\">\n",
       "  <thead>\n",
       "    <tr style=\"text-align: right;\">\n",
       "      <th></th>\n",
       "      <th>Value</th>\n",
       "      <th>Form</th>\n",
       "      <th>Segments</th>\n",
       "      <th>Concepticon_ID</th>\n",
       "      <th>Concepticon_Gloss</th>\n",
       "      <th>CV_Template</th>\n",
       "      <th>N_Syllables</th>\n",
       "      <th>Length</th>\n",
       "      <th>Number_of_meanings</th>\n",
       "    </tr>\n",
       "  </thead>\n",
       "  <tbody>\n",
       "    <tr>\n",
       "      <th>1303</th>\n",
       "      <td>tout</td>\n",
       "      <td>tu</td>\n",
       "      <td>t u</td>\n",
       "      <td>98</td>\n",
       "      <td>ALL</td>\n",
       "      <td>CV</td>\n",
       "      <td>1</td>\n",
       "      <td>2</td>\n",
       "      <td>1</td>\n",
       "    </tr>\n",
       "    <tr>\n",
       "      <th>2640</th>\n",
       "      <td>fourmi</td>\n",
       "      <td>fuʁˈmi</td>\n",
       "      <td>f u ʁ m i</td>\n",
       "      <td>587</td>\n",
       "      <td>ANT</td>\n",
       "      <td>CVCCV</td>\n",
       "      <td>2</td>\n",
       "      <td>5</td>\n",
       "      <td>1</td>\n",
       "    </tr>\n",
       "    <tr>\n",
       "      <th>3809</th>\n",
       "      <td>mauvais</td>\n",
       "      <td>moˈvɛ</td>\n",
       "      <td>m o v ɛ</td>\n",
       "      <td>1292</td>\n",
       "      <td>BAD</td>\n",
       "      <td>CVCV</td>\n",
       "      <td>2</td>\n",
       "      <td>4</td>\n",
       "      <td>3</td>\n",
       "    </tr>\n",
       "    <tr>\n",
       "      <th>6016</th>\n",
       "      <td>vivant</td>\n",
       "      <td>viˈvɑ̃</td>\n",
       "      <td>v i v ɑ̃</td>\n",
       "      <td>1422</td>\n",
       "      <td>BE ALIVE</td>\n",
       "      <td>CVCV</td>\n",
       "      <td>2</td>\n",
       "      <td>4</td>\n",
       "      <td>1</td>\n",
       "    </tr>\n",
       "    <tr>\n",
       "      <th>6017</th>\n",
       "      <td>vivre</td>\n",
       "      <td>ˈviːvʁə</td>\n",
       "      <td>v iː v ʁ ə</td>\n",
       "      <td>1422</td>\n",
       "      <td>BE ALIVE</td>\n",
       "      <td>CVCCV</td>\n",
       "      <td>2</td>\n",
       "      <td>5</td>\n",
       "      <td>1</td>\n",
       "    </tr>\n",
       "    <tr>\n",
       "      <th>7561</th>\n",
       "      <td>ventre</td>\n",
       "      <td>ˈvɑ̃ːtʁə</td>\n",
       "      <td>v ɑ̃ː t ʁ ə</td>\n",
       "      <td>1251</td>\n",
       "      <td>BELLY</td>\n",
       "      <td>CVCCV</td>\n",
       "      <td>2</td>\n",
       "      <td>5</td>\n",
       "      <td>1</td>\n",
       "    </tr>\n",
       "    <tr>\n",
       "      <th>9245</th>\n",
       "      <td>sous</td>\n",
       "      <td>su</td>\n",
       "      <td>s u</td>\n",
       "      <td>1485</td>\n",
       "      <td>BELOW OR UNDER</td>\n",
       "      <td>CV</td>\n",
       "      <td>1</td>\n",
       "      <td>2</td>\n",
       "      <td>1</td>\n",
       "    </tr>\n",
       "    <tr>\n",
       "      <th>9246</th>\n",
       "      <td>au-dessous de</td>\n",
       "      <td>odˈsu_də</td>\n",
       "      <td>o d s u + d ə</td>\n",
       "      <td>1485</td>\n",
       "      <td>BELOW OR UNDER</td>\n",
       "      <td>VCCV+CV</td>\n",
       "      <td>4</td>\n",
       "      <td>7</td>\n",
       "      <td>1</td>\n",
       "    </tr>\n",
       "    <tr>\n",
       "      <th>10624</th>\n",
       "      <td>grand</td>\n",
       "      <td>ɡʁɑ̃</td>\n",
       "      <td>g ʁ ɑ̃</td>\n",
       "      <td>1202</td>\n",
       "      <td>BIG</td>\n",
       "      <td>CCV</td>\n",
       "      <td>1</td>\n",
       "      <td>3</td>\n",
       "      <td>1</td>\n",
       "    </tr>\n",
       "    <tr>\n",
       "      <th>12827</th>\n",
       "      <td>oiseau</td>\n",
       "      <td>waˈzo</td>\n",
       "      <td>w a z o</td>\n",
       "      <td>937</td>\n",
       "      <td>BIRD</td>\n",
       "      <td>CVCV</td>\n",
       "      <td>2</td>\n",
       "      <td>4</td>\n",
       "      <td>1</td>\n",
       "    </tr>\n",
       "  </tbody>\n",
       "</table>\n",
       "</div>"
      ],
      "text/plain": [
       "               Value      Form       Segments  Concepticon_ID   \n",
       "1303            tout        tu            t u              98  \\\n",
       "2640          fourmi    fuʁˈmi      f u ʁ m i             587   \n",
       "3809         mauvais     moˈvɛ        m o v ɛ            1292   \n",
       "6016          vivant    viˈvɑ̃       v i v ɑ̃            1422   \n",
       "6017           vivre   ˈviːvʁə     v iː v ʁ ə            1422   \n",
       "7561          ventre  ˈvɑ̃ːtʁə    v ɑ̃ː t ʁ ə            1251   \n",
       "9245            sous        su            s u            1485   \n",
       "9246   au-dessous de  odˈsu_də  o d s u + d ə            1485   \n",
       "10624          grand      ɡʁɑ̃         g ʁ ɑ̃            1202   \n",
       "12827         oiseau     waˈzo        w a z o             937   \n",
       "\n",
       "      Concepticon_Gloss CV_Template  N_Syllables  Length  Number_of_meanings  \n",
       "1303                ALL          CV            1       2                   1  \n",
       "2640                ANT       CVCCV            2       5                   1  \n",
       "3809                BAD        CVCV            2       4                   3  \n",
       "6016           BE ALIVE        CVCV            2       4                   1  \n",
       "6017           BE ALIVE       CVCCV            2       5                   1  \n",
       "7561              BELLY       CVCCV            2       5                   1  \n",
       "9245     BELOW OR UNDER          CV            1       2                   1  \n",
       "9246     BELOW OR UNDER     VCCV+CV            4       7                   1  \n",
       "10624               BIG         CCV            1       3                   1  \n",
       "12827              BIRD        CVCV            2       4                   1  "
      ]
     },
     "execution_count": 29,
     "metadata": {},
     "output_type": "execute_result"
    }
   ],
   "source": [
    "stan1290['N_Syllables'] = stan1290['CV_Template'].apply(count_syllables)\n",
    "stan1290.head(10)"
   ]
  },
  {
   "cell_type": "markdown",
   "metadata": {},
   "source": [
    "Let's plot the relation between the number of sounds and the number of syllables (hint, use matplotlib's scatterplot)."
   ]
  },
  {
   "cell_type": "code",
   "execution_count": 30,
   "metadata": {},
   "outputs": [
    {
     "data": {
      "image/png": "[encoded data removed]",
      "text/plain": [
       "<Figure size 640x480 with 1 Axes>"
      ]
     },
     "metadata": {},
     "output_type": "display_data"
    }
   ],
   "source": [
    "# your code here\n",
    "stan1290.plot(x=\"Length\",y=\"N_Syllables\",kind=\"scatter\")\n",
    "plt.grid(axis=\"both\")\n",
    "plt.xlabel(\"Number of sounds\")\n",
    "plt.ylabel(\"Number of syllabes\")\n",
    "plt.show()\n"
   ]
  },
  {
   "cell_type": "markdown",
   "metadata": {},
   "source": [
    "Finally, plot the scatterplot with number of meanings on x axis, and the length/number of syllables on y axis (you should have two plots). What can you say about this relationship?"
   ]
  },
  {
   "cell_type": "code",
   "execution_count": 31,
   "metadata": {},
   "outputs": [
    {
     "data": {
      "image/png": "[encoded data removed]",
      "text/plain": [
       "<Figure size 640x480 with 1 Axes>"
      ]
     },
     "metadata": {},
     "output_type": "display_data"
    },
    {
     "data": {
      "image/png": "[encoded data removed]",
      "text/plain": [
       "<Figure size 640x480 with 1 Axes>"
      ]
     },
     "metadata": {},
     "output_type": "display_data"
    }
   ],
   "source": [
    "# your code here\n",
    "stan1290.plot(x=\"Number_of_meanings\",y=\"N_Syllables\",kind=\"scatter\",color=\"blue\")\n",
    "plt.grid(axis=\"both\")\n",
    "plt.xlabel(\"Number of meanings\")\n",
    "plt.ylabel(\"Syllables\")\n",
    "stan1290.plot(x=\"Number_of_meanings\",y=\"Length\",kind=\"scatter\",color=\"red\")\n",
    "plt.grid(axis=\"both\")\n",
    "plt.xlabel(\"Number of meanings\")\n",
    "plt.ylabel(\"Length\")\n",
    "plt.show()"
   ]
  }
 ],
 "metadata": {
  "kernelspec": {
   "display_name": "Python 3",
   "language": "python",
   "name": "python3"
  },
  "language_info": {
   "codemirror_mode": {
    "name": "ipython",
    "version": 3
   },
   "file_extension": ".py",
   "mimetype": "text/x-python",
   "name": "python",
   "nbconvert_exporter": "python",
   "pygments_lexer": "ipython3",
   "version": "3.11.2"
  }
 },
 "nbformat": 4,
 "nbformat_minor": 2
}
